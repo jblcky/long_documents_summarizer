{
 "cells": [
  {
   "cell_type": "code",
   "execution_count": 8,
   "id": "bcf066c7",
   "metadata": {},
   "outputs": [],
   "source": [
    "import pdfplumber\n",
    "import re"
   ]
  },
  {
   "cell_type": "code",
   "execution_count": 3,
   "id": "7dbc2986",
   "metadata": {},
   "outputs": [],
   "source": [
    "def extract_text_from_pdf(pdf_path):\n",
    "    text = \"\"\n",
    "    with pdfplumber.open(pdf_path) as pdf:\n",
    "        for page in pdf.pages:\n",
    "            text += page.extract_text() + \"\\n\"\n",
    "    return text"
   ]
  },
  {
   "cell_type": "code",
   "execution_count": null,
   "id": "d13216e2",
   "metadata": {},
   "outputs": [
    {
     "name": "stdout",
     "output_type": "stream",
     "text": [
      "CLINICAL PRACTICE GUIDELINE\n",
      "Evaluation and Management of\n",
      "Well-Appearing Febrile Infants 8 to 60\n",
      "Days Old\n",
      "RobertH.Pantell,MD,FAAP,aKennethB.Roberts,MD,FAAP,bWilliamG.Adams,MD,FAAP,cBenardP.Dreyer,MD,FAAP,d\n",
      "NathanKuppermann,MD,MPH,FAAP,FACEP,eSeanT.O’Leary,MD,MPH,FAAP,fKymikaOkechukwu,MPA,g\n",
      "CharlesR.WoodsJr,MD,MS,FAAPhSUBCOMMITTEEONFEBRILEINFANTS\n",
      "Thisguidelineaddressestheevaluationandmanagementofwell- abstract\n",
      "appearing,terminfants,8to60daysofage,withfever$38.0(cid:1)C.\n",
      "Exclusionsarenoted.Afteracommissionedevidence-basedreviewby aDepartmentofPediatrics,SchoolofMedicine,UniversityofCalifornia\n",
      "theAgencyforHealthcareResearchandQuality,anadditionalextensive\n",
      "SanFrancisco,SanFrancisco,California;bDepartmentofPediatrics,\n",
      "SchoolofMedicine,UniversityofNorthCarolinaatChapelHill,Chapel\n",
      "andongoingreviewoftheliterature,andsupplementaldatafrom Hill,NorthCarolina;cBostonMedicalCenter/BostonUniversitySchool\n",
      "published,peer-reviewedstudiesprovidedbyactiveinvestigators,21 ofMedicine,DeparmentofPediatrics,Boston,Massachusetts;\n",
      "dDepartmentofPediatrics,NYUGrossmanSchoolofMedicine,New\n",
      "keyactionstatementswerederived.Foreachkeyactionstatement,the York,NewYork;eDepartmentsofEmergencyMedicineandPediatrics,\n",
      "qualityofevidenceandbenefit-harmrelationshipwereassessedand SchoolofMedicine,UniversityofCalifornia,DavisSchoolofMedicine,\n",
      "Sacramento,California;fDepartmentofPediatrics,Universityof\n",
      "gradedtodeterminethestrengthofrecommendations.When ColoradoAnschutzMedicalCampus,Aurora,Colorado;gAmerican\n",
      "appropriate,parents’valuesandpreferencesshouldbeincorporatedas AcademyofPediatrics,Itasca,Illinois;andhDepartmentofPediatrics,\n",
      "Children’sHospitalatErlangerandCollegeofMedicine,TheUniversity\n",
      "partofshareddecision-making.Fordiagnostictesting,thecommittee\n",
      "ofTennesseeatChattanooga,Chattanooga,Tennessee\n",
      "hasattemptedtodevelopnumbersneededtotest,andforantimicrobial\n",
      "ThisdocumentiscopyrightedandispropertyoftheAmerican\n",
      "administration,thecommitteeprovidednumbersneededtotreat.\n",
      "AcademyofPediatricsanditsBoardofDirectors.Allauthorshave\n",
      "Threealgorithmssummarizetherecommendationsforinfants8to21 filedconflictofintereststatementswiththeAmericanAcademyof\n",
      "Pediatrics.Anyconflictshavebeenresolvedthroughaprocess\n",
      "daysofage,22to28daysofage,and29to60daysofage.The approvedbytheBoardofDirectors.TheAmericanAcademyof\n",
      "recommendationsinthisguidelinedonotindicateanexclusivecourse Pediatricshasneithersolicitednoracceptedanycommercial\n",
      "involvementinthedevelopmentofthecontentofthispublication.\n",
      "oftreatmentorserveasastandardofmedicalcare.Variations,taking\n",
      "Therecommendationsinthisguidelinedonotindicateanexclusive\n",
      "intoaccountindividualcircumstances,maybeappropriate. courseoftreatmentorserveasastandardofmedicalcare.\n",
      "Variations,takingintoaccountindividualcircumstances,maybe\n",
      "appropriate.\n",
      "AllclinicalpracticeguidelinesfromtheAmericanAcademyof\n",
      "Pediatricsautomaticallyexpire5yearsafterpublicationunless\n",
      "BACKGROUND\n",
      "reaffirmed,revised,orretiredatorbeforethattime.\n",
      "Effortstodevelopanevidence-basedapproachtotheevaluationand DOI:https://doi.org/1\n"
     ]
    }
   ],
   "source": [
    "pdf_text = extract_text_from_pdf(\"../data/peds_2021052228.pdf\")\n",
    "print(pdf_text[:3000])  # preview first 3000 chars"
   ]
  },
  {
   "cell_type": "code",
   "execution_count": null,
   "id": "d920ce76",
   "metadata": {},
   "outputs": [],
   "source": [
    "def clean_text(text):\n",
    "    # Remove multiple spaces & newlines\n",
    "    text = re.sub(r'\\s+', ' ', text)\n",
    "\n",
    "    # Remove page numbers (if they appear as standalone numbers)\n",
    "    text = re.sub(r'\\n?\\d+\\n?', ' ', text)\n",
    "\n",
    "    # Strip extra whitespace\n",
    "    return text.strip()"
   ]
  },
  {
   "cell_type": "code",
   "execution_count": null,
   "id": "d7b105a8",
   "metadata": {},
   "outputs": [],
   "source": []
  }
 ],
 "metadata": {
  "kernelspec": {
   "display_name": "lewagon",
   "language": "python",
   "name": "python3"
  },
  "language_info": {
   "codemirror_mode": {
    "name": "ipython",
    "version": 3
   },
   "file_extension": ".py",
   "mimetype": "text/x-python",
   "name": "python",
   "nbconvert_exporter": "python",
   "pygments_lexer": "ipython3",
   "version": "3.12.9"
  }
 },
 "nbformat": 4,
 "nbformat_minor": 5
}
