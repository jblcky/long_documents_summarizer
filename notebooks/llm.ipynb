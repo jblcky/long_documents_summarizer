{
 "cells": [
  {
   "cell_type": "code",
   "execution_count": null,
   "id": "bcf066c7",
   "metadata": {},
   "outputs": [
    {
     "name": "stderr",
     "output_type": "stream",
     "text": [
      "2025-09-26 11:29:50.104860: I tensorflow/core/util/port.cc:153] oneDNN custom operations are on. You may see slightly different numerical results due to floating-point round-off errors from different computation orders. To turn them off, set the environment variable `TF_ENABLE_ONEDNN_OPTS=0`.\n",
      "2025-09-26 11:29:50.588862: I tensorflow/core/platform/cpu_feature_guard.cc:210] This TensorFlow binary is optimized to use available CPU instructions in performance-critical operations.\n",
      "To enable the following instructions: AVX2 AVX512F AVX512_VNNI FMA, in other operations, rebuild TensorFlow with the appropriate compiler flags.\n",
      "2025-09-26 11:29:53.247752: I tensorflow/core/util/port.cc:153] oneDNN custom operations are on. You may see slightly different numerical results due to floating-point round-off errors from different computation orders. To turn them off, set the environment variable `TF_ENABLE_ONEDNN_OPTS=0`.\n"
     ]
    }
   ],
   "source": [
    "import pdfplumber\n",
    "import re\n",
    "from transformers import pipeline, AutoTokenizer, AutoModelForSeq2SeqLM, pipeline\n",
    "from bert_score import score\n",
    "import textstat\n",
    "import torch"
   ]
  },
  {
   "cell_type": "code",
   "execution_count": 2,
   "id": "1caa099b",
   "metadata": {},
   "outputs": [],
   "source": [
    "device = 0 if torch.cuda.is_available() else -1  # 0 = first GPU, -1 = CPU fallback"
   ]
  },
  {
   "cell_type": "code",
   "execution_count": null,
   "id": "8e297545",
   "metadata": {},
   "outputs": [
    {
     "name": "stderr",
     "output_type": "stream",
     "text": [
      "Device set to use cuda:0\n"
     ]
    }
   ],
   "source": [
    "# 3️⃣ Load model and tokenizer\n",
    "model_name = \"sshleifer/distilbart-cnn-12-6\"\n",
    "tokenizer = AutoTokenizer.from_pretrained(model_name)\n",
    "model = AutoModelForSeq2SeqLM.from_pretrained(model_name).to(device)\n",
    "if device != -1:\n",
    "    model = model.half()  # FP16 for GPU speed\n",
    "\n",
    "summarizer = pipeline(\n",
    "    \"summarization\",\n",
    "    model=model,\n",
    "    tokenizer=tokenizer,\n",
    "    device=device\n",
    ")"
   ]
  },
  {
   "cell_type": "code",
   "execution_count": 4,
   "id": "7dbc2986",
   "metadata": {},
   "outputs": [],
   "source": [
    "# 4️⃣ Extract only 1–2 paragraphs (from any page, e.g., page 4)\n",
    "def extract_paragraphs(pdf_path, page_index=4, num_paragraphs=2):\n",
    "    with pdfplumber.open(pdf_path) as pdf:\n",
    "        page_text = pdf.pages[page_index].extract_text()\n",
    "    paragraphs = page_text.split(\"\\n\\n\")  # split by paragraph breaks\n",
    "    return \" \".join(paragraphs[:num_paragraphs])"
   ]
  },
  {
   "cell_type": "code",
   "execution_count": null,
   "id": "d13216e2",
   "metadata": {},
   "outputs": [
    {
     "data": {
      "text/plain": [
       "'sadnessandanger.Acknowledging activityandsedentarytimebehaviors, nonalcoholicfattyliverdisease\\nandvalidatingtheseresponses,while unhealthyweightcontrolpractices, (NAFLD),andhypertension(KAS3,\\nkeepingthefocusonthechild’s sleeppatterns,socialhistory 3.1,5,6,7,8).Appendicesprovide\\nhealth,canhelptostrengthenthe (includingSDoHs),andmental/ additionalinformationontreatment\\nrelationshipbetweenthepediatrician behavioralhealth(KAS2).Specific ofthesecommoncomorbidities.\\norotherPHCPandpatienttosupport assessmenttoolsexistforprimary\\nongoingcare. care.Thepurposeoftheevaluationis TheCPGalsodescribesadditional\\ntodeterminethechild’sindividual comorbiditiespotentiallyassociated\\nAllservicesandsupportsfor healthstatus,includingthepresence withpediatricobesity,including\\nchildrenandyouthwithobesity andextentofobesity-related obstructivesleepapnea,polycystic\\nandtheirfamiliesshouldbe comorbidities,theextentofobesity ovariansyndrome,depression,\\nimplementedanddeliveredina riskfactorspresentinthechild’s slippedcapitalfemoralepiphysis,\\nlinguisticallyappropriateand historyandenvironment,andthe Blountdisease,andidiopathic\\naccessiblemannerthatrecognizes resourcesavailabletothefamilyto intracranialhypertension(formerly\\nculturalvalues.TheAAPstatement engageinobesitytreatment.Atimely knownaspseudotumorcerebri).\\nonweightbiasoffersstepsto andcomprehensiveevaluationis ConsensusRecommendationsare\\nprovidesupportiveandnonbiased instrumentalintailoringand providedforaddressingthese\\nbehavior,includingrecognitionof individualizingcareforeachpatient comorbidities;appendicesoffera\\nthecomplexgeneticand andfamily(seeEvaluationsectionof frameworkforevaluation,\\nenvironmentalinfluenceson CPG[https://doi.org/10.1542/ reevaluation,andinitialmanagement\\nobesity.17 peds.2022-060640]). ofthesecomorbidities(seeAppendix\\n3intheCPG[https://doi.org/\\nDiagnosisand Evaluation Comorbidities\\n10.1542/peds.2022-060640]).\\nFollowingcomprehensivesystematic Childrenandadolescentswithobesity\\nTreatment\\nreviews,theUSPreventiveServices havehigherprevalenceof\\nTaskForceissuedaGradeB comorbiditiesandagreaterriskfor Obesityisachronicdiseaseand\\nrecommendationthatpediatriciansand obesityduringadulthood,morbidity, shouldbetreatedthroughthe\\notherPHCPsscreenchildrenand andprematuredeath(seeComorbidities medicalhomewithintensiveand\\nadolescentsaged6yearsorolder sectionofCPG[https://doi.org/10.1542/ long-termcarestrategies,provisionof\\nannuallyforobesity—definedbybody peds.2022-060640]).22–25Theriskfor ongoingmedicalmonitoring,and\\nmassindex(BMI)percentile(KAS1).18 obesity-relatedcomorbiditiesincreases treatmentofassociatedcomorbidities\\nInclinicalpractice,BMIisfrequently withageandseverityofobesityandis andongoingaccesstoobesity\\nusedasbothascreeningand impactedbyavarietyofsocioecological, treatment(seeTreatmentsectionin\\ndiagnostictoolfordetectingexcess environmental,andgeneticinfluences.26 CPG[https://doi.org/10.1542/\\nbodyfatbecauseofitseaseofuseand peds.2022-060640]).Comprehensive\\nlowcost.BMIisavalidatedproxy Substantialevidencesupports obesitytreatmentincludesintegration\\nmeasureofunderlyingadipositythatis concurrenttreatmentofobesityand andcoordinationofweightmanage-\\nreplicableandcantrackweightstatus relatedcomorbiditiestoachieve mentcomponentsandstrategies\\ninchildrenandadolescents19–21(see weightloss,avoidfurtherexcess acrossappropriatedisciplines.Com-\\nDiagnosis/MeasurementsectionofCPG weightgain,andimproveobesity- prehensivetreatmentcanincludenu-\\n[https://doi.org/10.1542/peds.2022- relatedcomorbidities(KAS4). tritionsupport,physicalactivity\\n060640]). Studiesreportimprovementin treatment,behavioraltherapy,phar-\\ncomorbiditieswithintensive macotherapy,andmetabolicandbar-\\nMeasuringBMIandassessingweight lifestyletreatment,weightloss iatricsurgery.\\nclassification(KAS1)isascreening medication,and/ormetabolicand\\nstepthatallowsthepediatricianor bariatricsurgery.26–31BMIreduction TheCPGrecommendsthat\\notherPHCPtoinitiateobesity inchildrenwithobesitycanleadto pediatriciansandotherPHCPstreat\\nevaluation.EachchildwithaBMI clinicallymeaningfulimprovementsin overweightandobesityinchildren\\n$85thpercentileisthenevaluated obesity-relatedcomorbidities.31–35 andadolescentsfollowingthe\\nwithacomprehensivehistory, principlesofthemedicalhome,and\\nphysicalexamination,anddiagnostic TheCPGprovidesspecificKASson thechroniccaremodel,usinga\\nstudies. initialevaluationanddiagnostic family-centeredandnonstigmatizing\\ntestsforseveralcommon approachthatacknowledges\\nElementsofthehistoryincludebut comorbidities:dyslipidemia,type2 obesity’sbiologic,social,and\\narenotlimitedtonutrition,physical diabetesmellitus(T2DM), structuraldrivers(KAS9).The\\nPEDIATRICSVolume151,number2,February2023 5\\nDownloaded from http://publications.aap.org/pediatrics/article-pdf/151/2/e2022060641/1564811/peds_2022060641.pdf\\nby guest\\non 25 September 2025'"
      ]
     },
     "execution_count": 5,
     "metadata": {},
     "output_type": "execute_result"
    }
   ],
   "source": [
    "pdf_text = extract_paragraphs(\"../data/peds_2022060641_25-9-2025.pdf\", page_index=4, num_paragraphs=2)\n",
    "pdf_text"
   ]
  },
  {
   "cell_type": "code",
   "execution_count": null,
   "id": "d920ce76",
   "metadata": {},
   "outputs": [],
   "source": [
    "def clean_text(text):\n",
    "    # Remove multiple spaces & newlines\n",
    "    text = re.sub(r'\\s+', ' ', text)\n",
    "\n",
    "    # Remove page numbers (if they appear as standalone numbers)\n",
    "    text = re.sub(r'\\n?\\d+\\n?', ' ', text)\n",
    "\n",
    "    # Strip extra whitespace\n",
    "    return text.strip()"
   ]
  },
  {
   "cell_type": "code",
   "execution_count": 7,
   "id": "5fadce7f",
   "metadata": {},
   "outputs": [
    {
     "data": {
      "text/plain": [
       "'sadnessandanger.Acknowledging activityandsedentarytimebehaviors, nonalcoholicfattyliverdisease andvalidatingtheseresponses,while unhealthyweightcontrolpractices, (NAFLD),andhypertension(KAS , keepingthefocusonthechild’s sleeppatterns,socialhistory  . , , , , ).Appendicesprovide health,canhelptostrengthenthe (includingSDoHs),andmental/ additionalinformationontreatment relationshipbetweenthepediatrician behavioralhealth(KAS ).Specific ofthesecommoncomorbidities. orotherPHCPandpatienttosupport assessmenttoolsexistforprimary ongoingcare. care.Thepurposeoftheevaluationis TheCPGalsodescribesadditional todeterminethechild’sindividual comorbiditiespotentiallyassociated Allservicesandsupportsfor healthstatus,includingthepresence withpediatricobesity,including childrenandyouthwithobesity andextentofobesity-related obstructivesleepapnea,polycystic andtheirfamiliesshouldbe comorbidities,theextentofobesity ovariansyndrome,depression, implementedanddeliveredina riskfactorspresentinthechild’s slippedcapitalfemoralepiphysis, linguisticallyappropriateand historyandenvironment,andthe Blountdisease,andidiopathic accessiblemannerthatrecognizes resourcesavailabletothefamilyto intracranialhypertension(formerly culturalvalues.TheAAPstatement engageinobesitytreatment.Atimely knownaspseudotumorcerebri). onweightbiasoffersstepsto andcomprehensiveevaluationis ConsensusRecommendationsare providesupportiveandnonbiased instrumentalintailoringand providedforaddressingthese behavior,includingrecognitionof individualizingcareforeachpatient comorbidities;appendicesoffera thecomplexgeneticand andfamily(seeEvaluationsectionof frameworkforevaluation, environmentalinfluenceson CPG[https://doi.org/ . / reevaluation,andinitialmanagement obesity.  peds. - ]). ofthesecomorbidities(seeAppendix  intheCPG[https://doi.org/ Diagnosisand Evaluation Comorbidities  . /peds. - ]). Followingcomprehensivesystematic Childrenandadolescentswithobesity Treatment reviews,theUSPreventiveServices havehigherprevalenceof TaskForceissuedaGradeB comorbiditiesandagreaterriskfor Obesityisachronicdiseaseand recommendationthatpediatriciansand obesityduringadulthood,morbidity, shouldbetreatedthroughthe otherPHCPsscreenchildrenand andprematuredeath(seeComorbidities medicalhomewithintensiveand adolescentsaged yearsorolder sectionofCPG[https://doi.org/ . / long-termcarestrategies,provisionof annuallyforobesity—definedbybody peds. - ]). – Theriskfor ongoingmedicalmonitoring,and massindex(BMI)percentile(KAS ).  obesity-relatedcomorbiditiesincreases treatmentofassociatedcomorbidities Inclinicalpractice,BMIisfrequently withageandseverityofobesityandis andongoingaccesstoobesity usedasbothascreeningand impactedbyavarietyofsocioecological, treatment(seeTreatmentsectionin diagnostictoolfordetectingexcess environmental,andgeneticinfluences.  CPG[https://doi.org/ . / bodyfatbecauseofitseaseofuseand peds. - ]).Comprehensive lowcost.BMIisavalidatedproxy Substantialevidencesupports obesitytreatmentincludesintegration measureofunderlyingadipositythatis concurrenttreatmentofobesityand andcoordinationofweightmanage- replicableandcantrackweightstatus relatedcomorbiditiestoachieve mentcomponentsandstrategies inchildrenandadolescents – (see weightloss,avoidfurtherexcess acrossappropriatedisciplines.Com- Diagnosis/MeasurementsectionofCPG weightgain,andimproveobesity- prehensivetreatmentcanincludenu- [https://doi.org/ . /peds. - relatedcomorbidities(KAS ). tritionsupport,physicalactivity  ]). Studiesreportimprovementin treatment,behavioraltherapy,phar- comorbiditieswithintensive macotherapy,andmetabolicandbar- MeasuringBMIandassessingweight lifestyletreatment,weightloss iatricsurgery. classification(KAS )isascreening medication,and/ormetabolicand stepthatallowsthepediatricianor bariatricsurgery. – BMIreduction TheCPGrecommendsthat otherPHCPtoinitiateobesity inchildrenwithobesitycanleadto pediatriciansandotherPHCPstreat evaluation.EachchildwithaBMI clinicallymeaningfulimprovementsin overweightandobesityinchildren $ thpercentileisthenevaluated obesity-relatedcomorbidities. –  andadolescentsfollowingthe withacomprehensivehistory, principlesofthemedicalhome,and physicalexamination,anddiagnostic TheCPGprovidesspecificKASson thechroniccaremodel,usinga studies. initialevaluationanddiagnostic family-centeredandnonstigmatizing testsforseveralcommon approachthatacknowledges Elementsofthehistoryincludebut comorbidities:dyslipidemia,type  obesity’sbiologic,social,and arenotlimitedtonutrition,physical diabetesmellitus(T DM), structuraldrivers(KAS ).The PEDIATRICSVolume ,number ,February    Downloaded from http://publications.aap.org/pediatrics/article-pdf/ / /e / /peds_ .pdf by guest on   September'"
      ]
     },
     "execution_count": 7,
     "metadata": {},
     "output_type": "execute_result"
    }
   ],
   "source": [
    "cleaned_text = clean_text(pdf_text)\n",
    "cleaned_text"
   ]
  },
  {
   "cell_type": "markdown",
   "id": "0fbd543e",
   "metadata": {},
   "source": [
    "# CHunk Size\n",
    "- For summarizers like DistilBART or T5-small:\n",
    "- Max input ≈ 512–1024 tokens (~400–800 words).\n",
    "- Chunk size = 500 words (~750–1000 tokens)\n",
    "- Still within model’s safe input length.\n",
    "\n",
    "# Overlap\n",
    "- Medical text often has critical context spanning across boundaries (e.g., “Do not exceed 4000mg/day. In children under 12…”).\n",
    "- If overlap is too small, you lose continuity."
   ]
  },
  {
   "cell_type": "code",
   "execution_count": 8,
   "id": "2e6adbc5",
   "metadata": {},
   "outputs": [
    {
     "name": "stderr",
     "output_type": "stream",
     "text": [
      "Token indices sequence length is longer than the specified maximum sequence length for this model (1267 > 1024). Running this sequence through the model will result in indexing errors\n"
     ]
    }
   ],
   "source": [
    "# 5️⃣ Ensure text is short enough for model\n",
    "# Approximate tokens for DistilBART ≤ 1024\n",
    "tokens = tokenizer.encode(cleaned_text, add_special_tokens=False)\n",
    "if len(tokens) > 512:\n",
    "    tokens = tokens[:512]  # truncate for demo\n",
    "\n",
    "chunk_text = tokenizer.decode(tokens, skip_special_tokens=True)"
   ]
  },
  {
   "cell_type": "markdown",
   "id": "1b3819a2",
   "metadata": {},
   "source": [
    "# Why not make the summary too long?\n",
    "- Small summarization models like DistilBART or BART CNN usually have a maximum context length (like 1024 tokens input, 200–250 tokens output).\n",
    "- If you set max_length too high (e.g., 500), the model may:\n",
    "- Ignore the instruction and still output ~200 tokens (hard cap).\n",
    "- Hallucinate filler (repeating or generic text).\n",
    "\n",
    "\n",
    "# Why 200 tokens for max_length?\n",
    "- For medical guidelines, you want something informative but not overwhelming.\n",
    "- 200 tokens ≈ 2–3 paragraphs (enough for nuance).\n",
    "- It avoids summaries that are too short (missing context) or too long (hard to merge later).\n",
    "\n",
    "# Why 60 tokens for min_length?\n",
    "- Ensures the summary isn’t just a one-liner like “This document describes medical recommendations.”\n",
    "- Forces the model to give at least a few sentences with details.\n",
    "\n",
    "# If you’re using BART-large (heavier, better): you can push max_length=250–300.\n",
    "- For DistilBART (lighter): 150–200 is usually stable."
   ]
  },
  {
   "cell_type": "code",
   "execution_count": 10,
   "id": "7e345f79",
   "metadata": {},
   "outputs": [
    {
     "name": "stdout",
     "output_type": "stream",
     "text": [
      "=== Final Summary ===\n",
      " The CPGalsodescribesadditional todeterminethechild’s individual comorbiditiespotentiallyassociated All servicesandsupportsfor health status . The CPCalsodesocopes providesupportiveandnonbiased instrumentalintailoringand providedforaddressing these behavior .\n"
     ]
    }
   ],
   "source": [
    "# 6️⃣ Summarize (single chunk)\n",
    "summary = summarizer(\n",
    "    chunk_text,\n",
    "    max_length=150,\n",
    "    min_length=40,\n",
    "    do_sample=False\n",
    ")[0]['summary_text']\n",
    "\n",
    "print(\"=== Final Summary ===\")\n",
    "print(summary)"
   ]
  },
  {
   "cell_type": "markdown",
   "id": "db66e99f",
   "metadata": {},
   "source": [
    "# First pass (per chunk)\n",
    "- Each chunk is only a few hundred words.\n",
    "- If we allow max_length=300, the model may just copy the chunk or make the summary too long.\n",
    "- That’s why we kept it tight (150–200 max, 40–60 min) → force conciseness.\n",
    "\n",
    "# Second pass (final refinement)\n",
    "- Now, we’re summarizing summaries of all chunks combined.\n",
    "- Input is already shorter (not raw PDF text), but still covers the whole document.\n",
    "- We want a longer, more polished overview → so we relax the limits.\n",
    "- max_length=300 → allows ~4–5 paragraphs.\n",
    "- min_length=100 → ensures enough detail is preserved.\n",
    "\n",
    "# Why not even bigger (e.g., 500)?\n",
    "- Most summarization models (like BART, DistilBART, Pegasus) have a hard cap around 250–300 tokens output.\n",
    "- If you request 500, the model usually stops earlier anyway.\n",
    "- Bigger doesn’t mean better — it risks hallucinations or rambling."
   ]
  },
  {
   "cell_type": "code",
   "execution_count": 11,
   "id": "333a030f",
   "metadata": {},
   "outputs": [],
   "source": [
    "reference_summary = \"\"\"  Obesityinchildrenandadolescentsis\n",
    " a chronic, complex, multifactorial, and\n",
    " treatable disease. This CPG\n",
    " recommends early evaluation and\n",
    " treatment at the highest intensity\n",
    " level that is appropriate and\n",
    " available. In addition, understanding\n",
    " the wider determinants of obesity\n",
    " should enable pediatricians and other\n",
    " PHCPs to “raise awareness of the\n",
    " relevance of social and environmental\n",
    " determinants of childhood obesity in\n",
    " their communities.”4 The\n",
    " subcommittee urges pediatricians,\n",
    " other PHCPs, health systems,\n",
    " community partners, payers, and\n",
    " policy makers to work together to\n",
    " advance the equitable and universal\n",
    " provision of evaluation and treatment\n",
    " of children and adolescents with the\n",
    " chronic disease of obesity.\n",
    " \"\"\""
   ]
  },
  {
   "cell_type": "markdown",
   "id": "588c2435",
   "metadata": {},
   "source": [
    "# BERTScore uses contextual embeddings to compare your summary with a reference summary. It’s better than ROUGE for semantic similarity (especially for medical text).\n",
    "- Precision → how much of the predicted summary is relevant\n",
    "- Recall → how much of the reference summary is captured\n",
    "- F1 → balanced measure\n",
    "- Range: 0 → 1\n",
    "Closer to 1 → more similar in meaning.\n",
    "Closer to 0 → less similar.\n",
    "Your score: 0.7837 → pretty good!\n",
    "\n",
    "It means your summary captures ~78% of the semantic content of the reference.\n",
    "\n",
    "# Readability Score\n",
    "- Good for medical guidelines, since complex sentences are common. Use Flesch Reading Ease and Gunning Fog Index.\n",
    "\n",
    "# Flesch Reading Ease → higher score = easier to read\n",
    "- 60–70 → standard, 30–50 → difficult\n",
    "- Negative → extremely complex / very long sentences and words\n",
    "\n",
    "# Gunning Fog Index → higher score = more complex\n",
    "- 12 → high school level, 16+ → college/professional\n",
    "- 28.2 → extremely difficult to read"
   ]
  },
  {
   "cell_type": "code",
   "execution_count": 12,
   "id": "d48bf861",
   "metadata": {},
   "outputs": [
    {
     "data": {
      "application/vnd.jupyter.widget-view+json": {
       "model_id": "add7c0af328f4e45be136165a8e54e47",
       "version_major": 2,
       "version_minor": 0
      },
      "text/plain": [
       "tokenizer_config.json:   0%|          | 0.00/25.0 [00:00<?, ?B/s]"
      ]
     },
     "metadata": {},
     "output_type": "display_data"
    },
    {
     "data": {
      "application/vnd.jupyter.widget-view+json": {
       "model_id": "e1a6d9a304b24233ab81f2262166fdad",
       "version_major": 2,
       "version_minor": 0
      },
      "text/plain": [
       "config.json:   0%|          | 0.00/482 [00:00<?, ?B/s]"
      ]
     },
     "metadata": {},
     "output_type": "display_data"
    },
    {
     "data": {
      "application/vnd.jupyter.widget-view+json": {
       "model_id": "6b6db6c3c44249e3bfd37d59b03e5f65",
       "version_major": 2,
       "version_minor": 0
      },
      "text/plain": [
       "vocab.json:   0%|          | 0.00/899k [00:00<?, ?B/s]"
      ]
     },
     "metadata": {},
     "output_type": "display_data"
    },
    {
     "data": {
      "application/vnd.jupyter.widget-view+json": {
       "model_id": "246dc76a71a847d18cd8c7b3e8018ad8",
       "version_major": 2,
       "version_minor": 0
      },
      "text/plain": [
       "merges.txt:   0%|          | 0.00/456k [00:00<?, ?B/s]"
      ]
     },
     "metadata": {},
     "output_type": "display_data"
    },
    {
     "data": {
      "application/vnd.jupyter.widget-view+json": {
       "model_id": "0899f5db9e0a430e9b78b42e276c9fe5",
       "version_major": 2,
       "version_minor": 0
      },
      "text/plain": [
       "tokenizer.json:   0%|          | 0.00/1.36M [00:00<?, ?B/s]"
      ]
     },
     "metadata": {},
     "output_type": "display_data"
    },
    {
     "data": {
      "application/vnd.jupyter.widget-view+json": {
       "model_id": "f2726758b05a4345987a77b95ede3896",
       "version_major": 2,
       "version_minor": 0
      },
      "text/plain": [
       "model.safetensors:   0%|          | 0.00/1.42G [00:00<?, ?B/s]"
      ]
     },
     "metadata": {},
     "output_type": "display_data"
    },
    {
     "name": "stderr",
     "output_type": "stream",
     "text": [
      "Some weights of RobertaModel were not initialized from the model checkpoint at roberta-large and are newly initialized: ['roberta.pooler.dense.bias', 'roberta.pooler.dense.weight']\n",
      "You should probably TRAIN this model on a down-stream task to be able to use it for predictions and inference.\n"
     ]
    },
    {
     "name": "stdout",
     "output_type": "stream",
     "text": [
      "BERTScore F1: 0.7837\n",
      "Flesch Reading Ease: -160.83499999999995\n",
      "Gunning Fog Index: 28.200000000000003\n"
     ]
    }
   ],
   "source": [
    "try:\n",
    "    P, R, F1 = score([summary], [reference_summary], lang=\"en\")\n",
    "    print(f\"BERTScore F1: {F1.mean().item():.4f}\")\n",
    "except Exception:\n",
    "    print(\"BERTScore skipped: reference summary not provided.\")\n",
    "\n",
    "# Readability metrics\n",
    "print(\"Flesch Reading Ease:\", textstat.flesch_reading_ease(summary))\n",
    "print(\"Gunning Fog Index:\", textstat.gunning_fog(summary))"
   ]
  }
 ],
 "metadata": {
  "kernelspec": {
   "display_name": "lewagon",
   "language": "python",
   "name": "python3"
  },
  "language_info": {
   "codemirror_mode": {
    "name": "ipython",
    "version": 3
   },
   "file_extension": ".py",
   "mimetype": "text/x-python",
   "name": "python",
   "nbconvert_exporter": "python",
   "pygments_lexer": "ipython3",
   "version": "3.12.9"
  }
 },
 "nbformat": 4,
 "nbformat_minor": 5
}
